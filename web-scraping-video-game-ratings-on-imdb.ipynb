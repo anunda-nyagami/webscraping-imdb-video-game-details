{
 "cells": [
  {
   "cell_type": "code",
   "execution_count": 1,
   "id": "c4d4f4ea",
   "metadata": {
    "_cell_guid": "b1076dfc-b9ad-4769-8c92-a6c4dae69d19",
    "_uuid": "8f2839f25d086af736a60e9eeb907d3b93b6e0e5",
    "execution": {
     "iopub.execute_input": "2022-09-18T19:45:15.598370Z",
     "iopub.status.busy": "2022-09-18T19:45:15.597811Z",
     "iopub.status.idle": "2022-09-18T19:45:42.382630Z",
     "shell.execute_reply": "2022-09-18T19:45:42.381149Z"
    },
    "papermill": {
     "duration": 26.794766,
     "end_time": "2022-09-18T19:45:42.386510",
     "exception": false,
     "start_time": "2022-09-18T19:45:15.591744",
     "status": "completed"
    },
    "tags": []
   },
   "outputs": [
    {
     "name": "stdout",
     "output_type": "stream",
     "text": [
      "Requirement already satisfied: beautifulsoup4 in /opt/conda/lib/python3.7/site-packages (4.11.1)\r\n",
      "Requirement already satisfied: soupsieve>1.2 in /opt/conda/lib/python3.7/site-packages (from beautifulsoup4) (2.3.1)\r\n",
      "\u001b[33mWARNING: Running pip as the 'root' user can result in broken permissions and conflicting behaviour with the system package manager. It is recommended to use a virtual environment instead: https://pip.pypa.io/warnings/venv\u001b[0m\u001b[33m\r\n",
      "\u001b[0mCollecting html_parser\r\n",
      "  Downloading html-parser-0.2.tar.gz (904 bytes)\r\n",
      "  Preparing metadata (setup.py) ... \u001b[?25l-\b \bdone\r\n",
      "\u001b[?25hCollecting ply\r\n",
      "  Downloading ply-3.11-py2.py3-none-any.whl (49 kB)\r\n",
      "\u001b[2K     \u001b[90m━━━━━━━━━━━━━━━━━━━━━━━━━━━━━━━━━━━━━━━━\u001b[0m \u001b[32m49.6/49.6 kB\u001b[0m \u001b[31m2.1 MB/s\u001b[0m eta \u001b[36m0:00:00\u001b[0m\r\n",
      "\u001b[?25hBuilding wheels for collected packages: html_parser\r\n",
      "  Building wheel for html_parser (setup.py) ... \u001b[?25l-\b \b\\\b \bdone\r\n",
      "\u001b[?25h  Created wheel for html_parser: filename=html_parser-0.2-py3-none-any.whl size=1329 sha256=1328fbb071eca1d9f17aecc32549f47b086df64f5f5938163b76c31794e7adc4\r\n",
      "  Stored in directory: /root/.cache/pip/wheels/11/86/38/0554afea46105c70bae8d223c427bba371aa0c83ce88d57b27\r\n",
      "Successfully built html_parser\r\n",
      "Installing collected packages: ply, html_parser\r\n",
      "Successfully installed html_parser-0.2 ply-3.11\r\n",
      "\u001b[33mWARNING: Running pip as the 'root' user can result in broken permissions and conflicting behaviour with the system package manager. It is recommended to use a virtual environment instead: https://pip.pypa.io/warnings/venv\u001b[0m\u001b[33m\r\n",
      "\u001b[0m"
     ]
    }
   ],
   "source": [
    "!pip install beautifulsoup4 # Installing the beautiful soup package\n",
    "!pip install html_parser # Installing html parser for use with the beautiful soup package \n",
    "\n",
    "import numpy as np # linear algebra\n",
    "import pandas as pd # data processing, CSV file I/O (e.g. pd.read_csv)\n",
    "import requests\n",
    "from bs4 import BeautifulSoup as bs\n",
    "\n",
    "import os\n",
    "for dirname, _, filenames in os.walk('/kaggle/input'):\n",
    "    for filename in filenames:\n",
    "        print(os.path.join(dirname, filename))"
   ]
  },
  {
   "cell_type": "code",
   "execution_count": null,
   "id": "23edc45e",
   "metadata": {
    "papermill": {
     "duration": 0.003681,
     "end_time": "2022-09-18T19:45:42.394585",
     "exception": false,
     "start_time": "2022-09-18T19:45:42.390904",
     "status": "completed"
    },
    "tags": []
   },
   "outputs": [],
   "source": []
  },
  {
   "cell_type": "code",
   "execution_count": 2,
   "id": "3101e09b",
   "metadata": {
    "execution": {
     "iopub.execute_input": "2022-09-18T19:45:42.404573Z",
     "iopub.status.busy": "2022-09-18T19:45:42.404160Z",
     "iopub.status.idle": "2022-09-18T19:45:42.410430Z",
     "shell.execute_reply": "2022-09-18T19:45:42.408888Z"
    },
    "papermill": {
     "duration": 0.014356,
     "end_time": "2022-09-18T19:45:42.412986",
     "exception": false,
     "start_time": "2022-09-18T19:45:42.398630",
     "status": "completed"
    },
    "tags": []
   },
   "outputs": [],
   "source": [
    "# # This is the link to cycle through the pages on imdb\n",
    "# url = 'https://www.imdb.com/search/title/?title_type=video_game&sort=user_rating,asc&start={}&ref_=adv_nxt'\n",
    "# # Total pages to cycle through\n",
    "# pages = np.arange(1,number_of_pages_int,50)"
   ]
  },
  {
   "cell_type": "code",
   "execution_count": 3,
   "id": "13c4f7ba",
   "metadata": {
    "execution": {
     "iopub.execute_input": "2022-09-18T19:45:42.422661Z",
     "iopub.status.busy": "2022-09-18T19:45:42.422249Z",
     "iopub.status.idle": "2022-09-18T19:45:42.427311Z",
     "shell.execute_reply": "2022-09-18T19:45:42.425879Z"
    },
    "papermill": {
     "duration": 0.012734,
     "end_time": "2022-09-18T19:45:42.429747",
     "exception": false,
     "start_time": "2022-09-18T19:45:42.417013",
     "status": "completed"
    },
    "tags": []
   },
   "outputs": [],
   "source": [
    "# # Get total entries in the database\n",
    "# page_url = 'https://www.imdb.com/search/title/?title_type=video_game&sort=user_rating,desc'\n",
    "# pages_html = requests.get(page_url)\n",
    "# pages_html = bs(pages_html.text, 'html.parser')\n",
    "# current_entry = int(pages_html.find(class_='desc').span.get_text().strip().split(' ')[0].split('-')[1])\n",
    "# total_entries = int(pages_html.find(class_='desc').span.get_text().strip().split(' ')[2].replace(',',''))\n",
    "# current_entry"
   ]
  },
  {
   "cell_type": "code",
   "execution_count": 4,
   "id": "6459495b",
   "metadata": {
    "collapsed": true,
    "execution": {
     "iopub.execute_input": "2022-09-18T19:45:42.440262Z",
     "iopub.status.busy": "2022-09-18T19:45:42.439505Z",
     "iopub.status.idle": "2022-09-18T20:16:45.844953Z",
     "shell.execute_reply": "2022-09-18T20:16:45.843420Z"
    },
    "jupyter": {
     "outputs_hidden": true
    },
    "papermill": {
     "duration": 1863.414445,
     "end_time": "2022-09-18T20:16:45.848308",
     "exception": false,
     "start_time": "2022-09-18T19:45:42.433863",
     "status": "completed"
    },
    "tags": []
   },
   "outputs": [],
   "source": [
    "imdb_video_games_dict = {}\n",
    "imdb_video_games_df = pd.DataFrame(columns=['title','year','genre','rating','votes','directors','plot'])\n",
    "\n",
    "\n",
    "\n",
    "# Get total entries in the database\n",
    "page_url = 'https://www.imdb.com/search/title/?title_type=video_game&sort=user_rating,desc'\n",
    "pages_html = requests.get(page_url)\n",
    "pages_html = bs(pages_html.text, 'html.parser')\n",
    "current_entry = int(pages_html.find(class_='desc').span.get_text().strip().split(' ')[0].split('-')[1])\n",
    "total_entries = int(pages_html.find(class_='desc').span.get_text().strip().split(' ')[2].replace(',',''))\n",
    "current_entry\n",
    "\n",
    "while current_entry < total_entries:\n",
    "    imdb_html = requests.get(page_url)\n",
    "    imdb = bs(imdb_html.text, 'html.parser')\n",
    "\n",
    "    # Skip pages not read successfully\n",
    "    if imdb_html.status_code!=200:\n",
    "        continue\n",
    "        \n",
    "    for game_row in imdb.findAll(class_ = 'lister-item-content'):\n",
    "       \n",
    "        # Retrieve the title of the game\n",
    "        title = game_row.h3.a.text\n",
    "        \n",
    "        # Retrive launching year\n",
    "        year = game_row.find(class_ = 'lister-item-year text-muted unbold').text\n",
    "        year = year.split('(') # The year is a string. Separate it using an opening parenthesis\n",
    "        year = str(year).split(' ')[1].replace(\"'\",'') # Split the string to retrieve the year\n",
    "        \n",
    "        # Obtain the genre\n",
    "        try:\n",
    "            genre = game_row.find('span', class_ = 'genre').get_text().strip()\n",
    "        except:\n",
    "            genre = 'missing'\n",
    "            continue\n",
    "        \n",
    "        # Retrieve the rating\n",
    "        try:\n",
    "            rating = game_row.find(class_='inline-block ratings-imdb-rating').strong.get_text()\n",
    "        except:\n",
    "            rating = np.nan\n",
    "            continue\n",
    "        # Retrieve the plot\n",
    "        plot = game_row.findAll('p')[1].get_text().replace('\\n','')\n",
    "        plot = plot.replace('Add a Plot','Missing') # Insert missing for blank plots\n",
    "        \n",
    "        # Retrieve the number of voters\n",
    "        votes = game_row.find('p', class_='sort-num_votes-visible').find('span',attrs={'name':'nv'}).get_text()\n",
    "        \n",
    "        # Directors\n",
    "        directors = 'Missing' # Set the default value for entries without director details\n",
    "        director = game_row.findAll('p')[2].get_text()\n",
    "        #print(director)\n",
    "        for word in director.split('|'): # Split directors and stars using |\n",
    "            word = word.strip() \n",
    "            if word.startswith('Dire'): \n",
    "                ind = word.index(':') + 1 \n",
    "                directors =(word[ind:]).strip().replace('\\n','') # Remove empty lines\n",
    "        \n",
    "        # Create a dictionary of all attributes of the game\n",
    "        imdb_video_games_dict = dict([('title',title),('year',year),('genre',genre),('rating',rating),('votes',votes),('directors',directors),('plot',plot)])\n",
    "        \n",
    "        # Create a dataframe to store the game details\n",
    "        game_row_df = pd.DataFrame(imdb_video_games_dict.values(),index=imdb_video_games_dict.keys()).T\n",
    "        \n",
    "        # Append the game details to the current dataframe\n",
    "        imdb_video_games_df = pd.merge(imdb_video_games_df,game_row_df,on=['title','year','genre','rating','votes','directors','plot'],how='outer')\n",
    "        \n",
    "    # Obtain the url for the next page\n",
    "    next_page_url_rel = imdb.find(class_='lister-page-next next-page')['href']\n",
    "    next_page_url_abs = 'https://www.imdb.com'\n",
    "    page_url = next_page_url_abs + next_page_url_rel + '&ref_=adv_nxt'\n",
    "    current_entry += 50\n"
   ]
  },
  {
   "cell_type": "code",
   "execution_count": 5,
   "id": "6dbba70d",
   "metadata": {
    "execution": {
     "iopub.execute_input": "2022-09-18T20:16:45.858769Z",
     "iopub.status.busy": "2022-09-18T20:16:45.858351Z",
     "iopub.status.idle": "2022-09-18T20:16:45.886599Z",
     "shell.execute_reply": "2022-09-18T20:16:45.885235Z"
    },
    "papermill": {
     "duration": 0.036504,
     "end_time": "2022-09-18T20:16:45.889409",
     "exception": false,
     "start_time": "2022-09-18T20:16:45.852905",
     "status": "completed"
    },
    "tags": []
   },
   "outputs": [
    {
     "name": "stdout",
     "output_type": "stream",
     "text": [
      "3\n"
     ]
    }
   ],
   "source": [
    "# Let's check for duplicates\n",
    "print(imdb_video_games_df.duplicated(subset=['title','year']).sum())\n",
    "\n",
    "# Drop duplictes\n",
    "imdb_video_games_df.drop_duplicates(keep='first',subset=['title','year'],inplace=True)"
   ]
  },
  {
   "cell_type": "code",
   "execution_count": 6,
   "id": "7fa937d1",
   "metadata": {
    "execution": {
     "iopub.execute_input": "2022-09-18T20:16:45.899743Z",
     "iopub.status.busy": "2022-09-18T20:16:45.899278Z",
     "iopub.status.idle": "2022-09-18T20:16:45.994115Z",
     "shell.execute_reply": "2022-09-18T20:16:45.992644Z"
    },
    "papermill": {
     "duration": 0.103701,
     "end_time": "2022-09-18T20:16:45.997281",
     "exception": false,
     "start_time": "2022-09-18T20:16:45.893580",
     "status": "completed"
    },
    "tags": []
   },
   "outputs": [],
   "source": [
    "# Save to csv file \n",
    "imdb_video_games_df.to_csv('imdb_video_game_rating.csv')"
   ]
  },
  {
   "cell_type": "code",
   "execution_count": 7,
   "id": "20d6b024",
   "metadata": {
    "execution": {
     "iopub.execute_input": "2022-09-18T20:16:46.007365Z",
     "iopub.status.busy": "2022-09-18T20:16:46.006910Z",
     "iopub.status.idle": "2022-09-18T20:16:46.032468Z",
     "shell.execute_reply": "2022-09-18T20:16:46.031207Z"
    },
    "papermill": {
     "duration": 0.03376,
     "end_time": "2022-09-18T20:16:46.035220",
     "exception": false,
     "start_time": "2022-09-18T20:16:46.001460",
     "status": "completed"
    },
    "tags": []
   },
   "outputs": [
    {
     "data": {
      "text/html": [
       "<div>\n",
       "<style scoped>\n",
       "    .dataframe tbody tr th:only-of-type {\n",
       "        vertical-align: middle;\n",
       "    }\n",
       "\n",
       "    .dataframe tbody tr th {\n",
       "        vertical-align: top;\n",
       "    }\n",
       "\n",
       "    .dataframe thead th {\n",
       "        text-align: right;\n",
       "    }\n",
       "</style>\n",
       "<table border=\"1\" class=\"dataframe\">\n",
       "  <thead>\n",
       "    <tr style=\"text-align: right;\">\n",
       "      <th></th>\n",
       "      <th>title</th>\n",
       "      <th>year</th>\n",
       "      <th>genre</th>\n",
       "      <th>rating</th>\n",
       "      <th>votes</th>\n",
       "      <th>directors</th>\n",
       "      <th>plot</th>\n",
       "    </tr>\n",
       "  </thead>\n",
       "  <tbody>\n",
       "    <tr>\n",
       "      <th>0</th>\n",
       "      <td>The Last of Us: Part I</td>\n",
       "      <td>2022</td>\n",
       "      <td>Action, Adventure, Drama</td>\n",
       "      <td>9.8</td>\n",
       "      <td>598</td>\n",
       "      <td>Matthew Gallant, Bruce Straley</td>\n",
       "      <td>Experience the emotional storytelling and unfo...</td>\n",
       "    </tr>\n",
       "    <tr>\n",
       "      <th>1</th>\n",
       "      <td>Red Dead Redemption II</td>\n",
       "      <td>2018</td>\n",
       "      <td>Action, Adventure, Crime</td>\n",
       "      <td>9.7</td>\n",
       "      <td>36,432</td>\n",
       "      <td>Missing</td>\n",
       "      <td>Amidst the decline of the Wild West at the tur...</td>\n",
       "    </tr>\n",
       "    <tr>\n",
       "      <th>2</th>\n",
       "      <td>The Witcher 3: Wild Hunt - Blood and Wine</td>\n",
       "      <td>2016</td>\n",
       "      <td>Action, Adventure, Drama</td>\n",
       "      <td>9.7</td>\n",
       "      <td>7,610</td>\n",
       "      <td>Konrad Tomaszkiewicz</td>\n",
       "      <td>Geralt is in the southern province of Toussain...</td>\n",
       "    </tr>\n",
       "    <tr>\n",
       "      <th>3</th>\n",
       "      <td>The Witcher 3: Wild Hunt</td>\n",
       "      <td>2015</td>\n",
       "      <td>Action, Adventure, Drama</td>\n",
       "      <td>9.7</td>\n",
       "      <td>26,327</td>\n",
       "      <td>Konrad Tomaszkiewicz</td>\n",
       "      <td>A monster hunter for hire embarks on an epic j...</td>\n",
       "    </tr>\n",
       "    <tr>\n",
       "      <th>4</th>\n",
       "      <td>The Last of Us</td>\n",
       "      <td>2013</td>\n",
       "      <td>Action, Adventure, Drama</td>\n",
       "      <td>9.7</td>\n",
       "      <td>61,100</td>\n",
       "      <td>Neil Druckmann, Bruce Straley</td>\n",
       "      <td>In a hostile, post-pandemic world, Joel and El...</td>\n",
       "    </tr>\n",
       "    <tr>\n",
       "      <th>...</th>\n",
       "      <td>...</td>\n",
       "      <td>...</td>\n",
       "      <td>...</td>\n",
       "      <td>...</td>\n",
       "      <td>...</td>\n",
       "      <td>...</td>\n",
       "      <td>...</td>\n",
       "    </tr>\n",
       "    <tr>\n",
       "      <th>12632</th>\n",
       "      <td>Superman</td>\n",
       "      <td>1999</td>\n",
       "      <td>Action, Adventure, Family</td>\n",
       "      <td>1.4</td>\n",
       "      <td>646</td>\n",
       "      <td>Missing</td>\n",
       "      <td>The first 3D Superman game. Your friends Lois ...</td>\n",
       "    </tr>\n",
       "    <tr>\n",
       "      <th>12633</th>\n",
       "      <td>Action 52</td>\n",
       "      <td>1991</td>\n",
       "      <td>Action, Family, Fantasy</td>\n",
       "      <td>1.3</td>\n",
       "      <td>135</td>\n",
       "      <td>Raul Gomila, Vince Perri</td>\n",
       "      <td>Play the action at your fingertips with 52 gam...</td>\n",
       "    </tr>\n",
       "    <tr>\n",
       "      <th>12634</th>\n",
       "      <td>Plumbers Don't Wear Ties</td>\n",
       "      <td>1994</td>\n",
       "      <td>Comedy, Romance</td>\n",
       "      <td>1.3</td>\n",
       "      <td>338</td>\n",
       "      <td>Michael Anderson</td>\n",
       "      <td>John, an unattached plumber, meets and falls i...</td>\n",
       "    </tr>\n",
       "    <tr>\n",
       "      <th>12635</th>\n",
       "      <td>Animal Soccer World</td>\n",
       "      <td>2005</td>\n",
       "      <td>Animation, Sport</td>\n",
       "      <td>1.2</td>\n",
       "      <td>125</td>\n",
       "      <td>Roswitha Haas</td>\n",
       "      <td>Everybody is busy with the preparations for th...</td>\n",
       "    </tr>\n",
       "    <tr>\n",
       "      <th>12636</th>\n",
       "      <td>CrazyBus</td>\n",
       "      <td>2004</td>\n",
       "      <td>Adventure, Family</td>\n",
       "      <td>1.0</td>\n",
       "      <td>126</td>\n",
       "      <td>Tom Maneiro</td>\n",
       "      <td>You get to select your bus and drive it across...</td>\n",
       "    </tr>\n",
       "  </tbody>\n",
       "</table>\n",
       "<p>12634 rows × 7 columns</p>\n",
       "</div>"
      ],
      "text/plain": [
       "                                           title  year  \\\n",
       "0                         The Last of Us: Part I  2022   \n",
       "1                         Red Dead Redemption II  2018   \n",
       "2      The Witcher 3: Wild Hunt - Blood and Wine  2016   \n",
       "3                       The Witcher 3: Wild Hunt  2015   \n",
       "4                                 The Last of Us  2013   \n",
       "...                                          ...   ...   \n",
       "12632                                   Superman  1999   \n",
       "12633                                  Action 52  1991   \n",
       "12634                   Plumbers Don't Wear Ties  1994   \n",
       "12635                        Animal Soccer World  2005   \n",
       "12636                                   CrazyBus  2004   \n",
       "\n",
       "                           genre rating   votes  \\\n",
       "0       Action, Adventure, Drama    9.8     598   \n",
       "1       Action, Adventure, Crime    9.7  36,432   \n",
       "2       Action, Adventure, Drama    9.7   7,610   \n",
       "3       Action, Adventure, Drama    9.7  26,327   \n",
       "4       Action, Adventure, Drama    9.7  61,100   \n",
       "...                          ...    ...     ...   \n",
       "12632  Action, Adventure, Family    1.4     646   \n",
       "12633    Action, Family, Fantasy    1.3     135   \n",
       "12634            Comedy, Romance    1.3     338   \n",
       "12635           Animation, Sport    1.2     125   \n",
       "12636          Adventure, Family    1.0     126   \n",
       "\n",
       "                            directors  \\\n",
       "0      Matthew Gallant, Bruce Straley   \n",
       "1                             Missing   \n",
       "2                Konrad Tomaszkiewicz   \n",
       "3                Konrad Tomaszkiewicz   \n",
       "4       Neil Druckmann, Bruce Straley   \n",
       "...                               ...   \n",
       "12632                         Missing   \n",
       "12633        Raul Gomila, Vince Perri   \n",
       "12634                Michael Anderson   \n",
       "12635                   Roswitha Haas   \n",
       "12636                     Tom Maneiro   \n",
       "\n",
       "                                                    plot  \n",
       "0      Experience the emotional storytelling and unfo...  \n",
       "1      Amidst the decline of the Wild West at the tur...  \n",
       "2      Geralt is in the southern province of Toussain...  \n",
       "3      A monster hunter for hire embarks on an epic j...  \n",
       "4      In a hostile, post-pandemic world, Joel and El...  \n",
       "...                                                  ...  \n",
       "12632  The first 3D Superman game. Your friends Lois ...  \n",
       "12633  Play the action at your fingertips with 52 gam...  \n",
       "12634  John, an unattached plumber, meets and falls i...  \n",
       "12635  Everybody is busy with the preparations for th...  \n",
       "12636  You get to select your bus and drive it across...  \n",
       "\n",
       "[12634 rows x 7 columns]"
      ]
     },
     "execution_count": 7,
     "metadata": {},
     "output_type": "execute_result"
    }
   ],
   "source": [
    "# Preview the dataframe\n",
    "imdb_video_games_df"
   ]
  }
 ],
 "metadata": {
  "kernelspec": {
   "display_name": "Python 3",
   "language": "python",
   "name": "python3"
  },
  "language_info": {
   "codemirror_mode": {
    "name": "ipython",
    "version": 3
   },
   "file_extension": ".py",
   "mimetype": "text/x-python",
   "name": "python",
   "nbconvert_exporter": "python",
   "pygments_lexer": "ipython3",
   "version": "3.7.12"
  },
  "papermill": {
   "default_parameters": {},
   "duration": 1902.112348,
   "end_time": "2022-09-18T20:16:46.866564",
   "environment_variables": {},
   "exception": null,
   "input_path": "__notebook__.ipynb",
   "output_path": "__notebook__.ipynb",
   "parameters": {},
   "start_time": "2022-09-18T19:45:04.754216",
   "version": "2.3.4"
  }
 },
 "nbformat": 4,
 "nbformat_minor": 5
}
